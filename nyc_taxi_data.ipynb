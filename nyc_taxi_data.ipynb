{
 "cells": [
  {
   "cell_type": "markdown",
   "metadata": {},
   "source": [
    "## Readme\n",
    "\n",
    "In this exercise, we are going to play with the NYC Taxi data in 2020. \n",
    "\n",
    "Assuming that we are going to build a machine learning model to predict whether a trip is tipped or not. We are not going to really build the machine learning model. Instead, we are going to do some interesting data analysis and exploration. \n",
    "\n",
    "When we do data analysis and exploration, we should always ask us questions: Does the pattern you see in the data make sense? What you have learnt about the physical/business process that generated the data we are exploring?\n",
    "\n",
    "Domain expertise plays a critical role in data science. As we do more data science/machine learning projects in a certain industry, we should get deeper understanding to this industry, and to the system we are modeling. Such insights will be super helpful for our future engagements when we are modeling similar systems. \n",
    "\n"
   ]
  },
  {
   "cell_type": "markdown",
   "metadata": {},
   "source": [
    "## Step 1. Read the Sampled NYC Taxi 2023 Data\n",
    "\n",
    "For the sake of time, the original NYC Taxi 2020 Yellow data (around 25M records) are randomly sampled to 2%. \n",
    "\n",
    "Now, let's first read the data into Pandas dataframe."
   ]
  },
  {
   "cell_type": "code",
   "execution_count": null,
   "metadata": {},
   "outputs": [],
   "source": [
    "import os\n",
    "import pandas as pd\n",
    "data_dir = 'data'\n",
    "data_file = '2020_NYC_Taxi_Trip_Data_Sample_2pct.csv'\n",
    "data_path = os.path.join(data_dir, data_file)\n",
    "data_df = pd.read_csv(data_path)\n",
    "data_df.head()"
   ]
  },
  {
   "cell_type": "markdown",
   "metadata": {},
   "source": [
    "## Step 2. Provide Labels to Each Trip by Marking the Trips as Tipped or Not\n",
    "\n",
    "Assuming that our machine learning task is to predict whether a trip is tipped or not. \n",
    "\n",
    "For convenience, we only consider trips that are either paid by credit card (paymenht_type=1) or cash (payment_type=2). These two types of payment account for > 95% of the trips in the original dataset."
   ]
  },
  {
   "cell_type": "code",
   "execution_count": null,
   "metadata": {},
   "outputs": [],
   "source": [
    "import numpy as np\n",
    "data_df['tipped'] = data_df['tip_amount'] > 0\n",
    "data_df = data_df[data_df['payment_type'] <= 2].copy()\n",
    "data_df['payment_type'] = np.where(data_df['payment_type'] == 1, 'credit card', 'cash')\n",
    "data_df.head()"
   ]
  },
  {
   "cell_type": "markdown",
   "metadata": {},
   "source": [
    "## Step 3. Let's Look at the Contigency Table between Tipped and Payment Type (Two Categorical Variables)"
   ]
  },
  {
   "cell_type": "code",
   "execution_count": null,
   "metadata": {},
   "outputs": [],
   "source": [
    "data_crosstab = pd.crosstab(data_df['payment_type'], data_df['tipped'], margins = False)"
   ]
  },
  {
   "cell_type": "markdown",
   "metadata": {},
   "source": [
    "### What do you see?"
   ]
  },
  {
   "cell_type": "code",
   "execution_count": null,
   "metadata": {},
   "outputs": [],
   "source": [
    "print(data_crosstab)"
   ]
  },
  {
   "cell_type": "code",
   "execution_count": null,
   "metadata": {},
   "outputs": [],
   "source": [
    "data_crosstab_pct = round(data_crosstab.apply(lambda row: row/row.sum(), axis=1)*100, 2)\n",
    "\n",
    "print(data_crosstab_pct)"
   ]
  },
  {
   "cell_type": "markdown",
   "metadata": {},
   "source": [
    "### Discussions\n",
    "\n",
    "Does this make sense?\n",
    "\n",
    "Why does the data show this pattern?\n",
    "\n",
    "If the model is going to be used to help the taxi driver to decide whether he/she should take the ride or not (based on how likely the trip is going to be tipped) before the trip starts, and the payment is always happening at the end of the trip, can we still use Payment Type as a feature to predict whether a trip is tipped or not?\n",
    "\n",
    "Do you think the target variable is already polluted by the Payment Type? How much noise is introduced to the target variable?"
   ]
  }
 ],
 "metadata": {
  "kernelspec": {
   "display_name": "base",
   "language": "python",
   "name": "python3"
  },
  "language_info": {
   "codemirror_mode": {
    "name": "ipython",
    "version": 3
   },
   "file_extension": ".py",
   "mimetype": "text/x-python",
   "name": "python",
   "nbconvert_exporter": "python",
   "pygments_lexer": "ipython3",
   "version": "3.12.7"
  }
 },
 "nbformat": 4,
 "nbformat_minor": 2
}
