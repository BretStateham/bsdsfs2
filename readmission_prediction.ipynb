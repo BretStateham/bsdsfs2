{
 "cells": [
  {
   "cell_type": "markdown",
   "metadata": {},
   "source": [
    "## README\n",
    "\n",
    "Please run this Jupyter Notebook in Python >= 3.12."
   ]
  },
  {
   "cell_type": "markdown",
   "metadata": {},
   "source": [
    "## Step 1. Read the Hospital Readmission Data\n",
    "\n",
    "Readmission means a patient is readmitted to an in-patient hospital within 30 days (Medicare definition) after being discharged from in-patient hospital stays. Hospital readmission presents a significant challenge for both healthcare insurance companies and patients. "
   ]
  },
  {
   "cell_type": "code",
   "execution_count": null,
   "metadata": {},
   "outputs": [],
   "source": [
    "import os\n",
    "import pandas as pd\n",
    "data_dir = 'data'\n",
    "data_file = 'hospital_readmissions_new.csv'\n",
    "data_path = os.path.join(data_dir, data_file)\n",
    "data_df = pd.read_csv(data_path)\n",
    "data_df.head()"
   ]
  },
  {
   "cell_type": "markdown",
   "metadata": {},
   "source": [
    "## Step 2. Let's Split the Data into Training and Testing"
   ]
  },
  {
   "cell_type": "code",
   "execution_count": null,
   "metadata": {},
   "outputs": [],
   "source": [
    "import numpy as np\n",
    "from sklearn.model_selection import train_test_split\n",
    "\n",
    "x = data_df.iloc[:, 1:-1]\n",
    "y = data_df.iloc[:, -1]\n",
    "test_portion = 0.2\n",
    "x_train, x_test, y_train, y_test = train_test_split(x, y, test_size=test_portion, random_state=98053)\n",
    "x_train.reset_index(inplace=True)\n",
    "x_test.reset_index(inplace=True)\n",
    "x_train.drop('index', axis=1, inplace=True)\n",
    "x_test.drop('index', axis=1, inplace=True)\n"
   ]
  },
  {
   "cell_type": "markdown",
   "metadata": {},
   "source": [
    "## Step 3. One-hot-encoding to Handle Categorical Variables in X"
   ]
  },
  {
   "cell_type": "code",
   "execution_count": null,
   "metadata": {},
   "outputs": [],
   "source": [
    "def one_hot_encoding(x_input, cat_cols=[], encoder=None):\n",
    "    \"\"\"\n",
    "    This function does the one-hot encoding on X \n",
    "    data frame for a machine learning task. \n",
    "    params: x: Pandas Dataframe. Dataframe of independent variables for a machine learning task. \n",
    "            cat_col: list of categorical variable names. Default is empty. If empty, \n",
    "                     we have to detect automatically the list of categorical variables in x. \n",
    "            encoder: one hot encoder. Default None. When None, we have to learn \n",
    "                     the one hot encoder from x. Otherwise, directly apply\n",
    "                     the one hot encoder to transform x.\n",
    "    returns: Pandas dataframe with categorical variables in x tranformed by one-hot-encoding\n",
    "             list of categorical columns in x.\n",
    "             one-hot-encoder.\n",
    "    \"\"\"\n",
    "    from sklearn.preprocessing import OneHotEncoder\n",
    "\n",
    "    if encoder is None:\n",
    "        if len(cat_cols) == 0:\n",
    "            cat_cols = x_input.select_dtypes(include=['object']).columns.tolist()\n",
    "        encoder = OneHotEncoder(sparse_output=False)\n",
    "        one_hot_encoded = encoder.fit_transform(x_input[cat_cols])\n",
    "    else:\n",
    "        one_hot_encoded = encoder.transform(x_input[cat_cols])\n",
    "    one_hot_df = pd.DataFrame(one_hot_encoded, columns=encoder.get_feature_names_out(cat_cols))\n",
    "    one_hot_df.reset_index(inplace=True)\n",
    "    x_input.reset_index(inplace=True)\n",
    "    df_encoded = pd.concat([x_input, one_hot_df], axis=1)\n",
    "    x_encoded = df_encoded.drop(cat_cols, axis=1)\n",
    "    x_encoded.reset_index(inplace=True)\n",
    "    if 'level_0' in x_encoded.columns:\n",
    "        x_encoded.drop('level_0', axis=1, inplace=True)\n",
    "    if 'index' in x_encoded.columns:\n",
    "        x_encoded.drop('index', axis=1, inplace=True)\n",
    "    return x_encoded, cat_cols, encoder"
   ]
  },
  {
   "cell_type": "code",
   "execution_count": null,
   "metadata": {},
   "outputs": [],
   "source": [
    "from sklearn.preprocessing import OneHotEncoder\n",
    "\n",
    "x_train_encoded, categorical_columns, encoder = one_hot_encoding(x_train, cat_cols=[], encoder=None)\n",
    "\n",
    "x_test_encoded, _, _ = one_hot_encoding(x_test, cat_cols=categorical_columns, encoder=encoder)\n",
    "\n",
    "print(f\"Encoded Employee data : \\n{x_train_encoded}\")"
   ]
  },
  {
   "cell_type": "code",
   "execution_count": null,
   "metadata": {},
   "outputs": [],
   "source": [
    "print(x_train_encoded.shape)\n",
    "print(x_test_encoded.shape)"
   ]
  },
  {
   "cell_type": "markdown",
   "metadata": {},
   "source": [
    "## Train RandomForest Model"
   ]
  },
  {
   "cell_type": "code",
   "execution_count": null,
   "metadata": {},
   "outputs": [],
   "source": [
    "from sklearn.ensemble import RandomForestClassifier\n",
    "from sklearn.metrics import accuracy_score, confusion_matrix, precision_score, recall_score, ConfusionMatrixDisplay\n",
    "rf = RandomForestClassifier(n_estimators=20, min_samples_leaf=3)\n",
    "rf.fit(x_train_encoded, y_train)"
   ]
  },
  {
   "cell_type": "markdown",
   "metadata": {},
   "source": [
    "## Test the RF Model on Testing Data"
   ]
  },
  {
   "cell_type": "code",
   "execution_count": null,
   "metadata": {},
   "outputs": [],
   "source": [
    "y_pred = rf.predict(x_test_encoded)\n",
    "accuracy = accuracy_score(y_test, y_pred)\n",
    "print(\"Accuracy:\", accuracy)\n",
    "\n",
    "cm = confusion_matrix(y_test, y_pred)\n",
    "print(cm)"
   ]
  },
  {
   "cell_type": "code",
   "execution_count": null,
   "metadata": {},
   "outputs": [],
   "source": [
    "import seaborn as sns\n",
    "import matplotlib.pyplot as plt \n",
    "\n",
    "sns.heatmap(cm, \n",
    "            annot=True,\n",
    "            fmt='g', \n",
    "            xticklabels=['Not Readmitted','Readmitted'],\n",
    "            yticklabels=['Not Readmitted','Readmitted'])\n",
    "plt.ylabel('Actual', fontsize=13)\n",
    "plt.title('Confusion Matrix', fontsize=17, pad=20)\n",
    "plt.gca().xaxis.set_label_position('top') \n",
    "plt.xlabel('Prediction', fontsize=13)\n",
    "plt.gca().xaxis.tick_top()\n",
    "\n",
    "plt.gca().figure.subplots_adjust(bottom=0.2)\n",
    "plt.gca().figure.text(0.5, 0.05, 'Prediction', ha='center', fontsize=13)\n",
    "plt.show()"
   ]
  },
  {
   "cell_type": "markdown",
   "metadata": {},
   "source": [
    "## Now, Let's Take a Closer Look at the Data\n",
    "\n",
    "What did you see?"
   ]
  },
  {
   "cell_type": "code",
   "execution_count": null,
   "metadata": {},
   "outputs": [],
   "source": [
    "data_df_new = data_df.copy()\n",
    "data_df_new['Readmission_Location'] = data_df_new['Readmission_Location'].replace(np.nan, 'Unknown')\n",
    "data_crosstab = pd.crosstab(data_df_new['Readmission_Location'], data_df_new['Readmitted'], margins = False)\n",
    "print(data_crosstab)"
   ]
  },
  {
   "cell_type": "markdown",
   "metadata": {},
   "source": [
    "## Discussion\n",
    "\n",
    "What do you see?"
   ]
  },
  {
   "cell_type": "markdown",
   "metadata": {},
   "source": []
  }
 ],
 "metadata": {
  "kernelspec": {
   "display_name": "base",
   "language": "python",
   "name": "python3"
  },
  "language_info": {
   "codemirror_mode": {
    "name": "ipython",
    "version": 3
   },
   "file_extension": ".py",
   "mimetype": "text/x-python",
   "name": "python",
   "nbconvert_exporter": "python",
   "pygments_lexer": "ipython3",
   "version": "3.12.3"
  }
 },
 "nbformat": 4,
 "nbformat_minor": 2
}
