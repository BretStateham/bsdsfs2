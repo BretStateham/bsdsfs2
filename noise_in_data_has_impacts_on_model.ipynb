{
 "cells": [
  {
   "cell_type": "markdown",
   "metadata": {},
   "source": [
    "## Readme\n",
    "\n",
    "In this lab, we are going to use a simple example: a linear regression model to see how the noise is impacting the model accuracy. \n",
    "\n",
    "Usually, a supervised machine learning model can be described as:\n",
    "\n",
    "\n",
    "_y_ = _f_($\\mathbf{x}$|$\\Theta$) + $\\epsilon$\n",
    "\n",
    "where $\\epsilon$ ~ N(0, $\\sigma$)\n",
    "\n",
    "In this lab, we are going to see the impact of increasing $\\sigma$ on the model accuracy ($\\hat{\\Theta}$)\n",
    "\n",
    "On the other hand, you are also going to see even under the situation where the noise is large, increasing the number of observations can still help reduce the impact of the noise on model accuracy. \n",
    "\n",
    "Think: What does it mean to the computational cost? Do you see the connection with LLM why we need to improve the data quality?"
   ]
  },
  {
   "cell_type": "markdown",
   "metadata": {},
   "source": [
    "## Step 1. Let's First Simulate the Data for Linear Regression"
   ]
  },
  {
   "cell_type": "markdown",
   "metadata": {},
   "source": [
    "### Simulate Data y = 2 + 5x + noise"
   ]
  },
  {
   "cell_type": "code",
   "execution_count": null,
   "metadata": {},
   "outputs": [],
   "source": [
    "import numpy as np\n",
    "num_obs = 30\n",
    "stdev_of_noise = 2\n",
    "np.random.seed(98053)\n",
    "x = np.random.randn(num_obs)  * 5\n",
    "x = np.vstack((np.ones(num_obs), x)).T\n",
    "noise = np.random.randn(num_obs) * stdev_of_noise\n",
    "coefficients = [2, 5]\n",
    "y_truth = x.dot(coefficients)\n",
    "y = y_truth + noise"
   ]
  },
  {
   "cell_type": "markdown",
   "metadata": {},
   "source": [
    "### Let's Visualize the Data"
   ]
  },
  {
   "cell_type": "code",
   "execution_count": null,
   "metadata": {},
   "outputs": [],
   "source": [
    "import matplotlib.pyplot as plt\n",
    "import seaborn as sns \n",
    "\n",
    "import pandas as pd\n",
    "df = pd.DataFrame({'x': x[:, 1], 'y': y})\n",
    "bplot= sns.scatterplot(x='x', y='y', data=df)\n",
    "bplot.axes.set_title(\"x vs y: Scatter Plot\",\n",
    "                    fontsize=16)\n",
    "bplot.set_ylabel(\"y\", \n",
    "                fontsize=16)\n",
    "bplot.set_xlabel(\"x\", \n",
    "                fontsize=16)\n",
    "bplot.plot(x[:, 1], y_truth, color='green')"
   ]
  },
  {
   "cell_type": "markdown",
   "metadata": {},
   "source": [
    "## Step 2. Let's Fit Linear Regression Model and Visualize It"
   ]
  },
  {
   "cell_type": "code",
   "execution_count": null,
   "metadata": {},
   "outputs": [],
   "source": [
    "beta_hat = np.linalg.inv(x.T.dot(x)).dot(x.T).dot(y)\n",
    "print(beta_hat)"
   ]
  },
  {
   "cell_type": "code",
   "execution_count": null,
   "metadata": {},
   "outputs": [],
   "source": [
    "yhat = x.dot(beta_hat)\n",
    "plt.scatter(x[:,1], y)\n",
    "plt.plot(x[:, 1], yhat, color='red', label='fitted line')\n",
    "plt.plot(x[:, 1], y_truth, color='green', label='actual line')\n",
    "plt.legend(loc='upper left')"
   ]
  },
  {
   "cell_type": "markdown",
   "metadata": {},
   "source": [
    "## Step 3. Let's Play Around to See Impact of Noise and Number of Observations on Model Fitting"
   ]
  },
  {
   "cell_type": "markdown",
   "metadata": {},
   "source": [
    "### Increase the variance of noise from 2 to 50.\n",
    "\n",
    "Run Steps 1 and 2 again. What do you see?"
   ]
  },
  {
   "cell_type": "markdown",
   "metadata": {},
   "source": [
    "### Keep the variance of noise as 50, but increase the number of observations from 30 to 3000. \n",
    "\n",
    "Run steps 1 and 2 again. What do you see?"
   ]
  },
  {
   "cell_type": "markdown",
   "metadata": {},
   "source": [
    "## Discussion\n",
    "\n",
    "What have you seen?\n",
    "\n",
    "What have you learnt?"
   ]
  }
 ],
 "metadata": {
  "kernelspec": {
   "display_name": "Python 3",
   "language": "python",
   "name": "python3"
  },
  "language_info": {
   "codemirror_mode": {
    "name": "ipython",
    "version": 3
   },
   "file_extension": ".py",
   "mimetype": "text/x-python",
   "name": "python",
   "nbconvert_exporter": "python",
   "pygments_lexer": "ipython3",
   "version": "3.9.13"
  }
 },
 "nbformat": 4,
 "nbformat_minor": 2
}
